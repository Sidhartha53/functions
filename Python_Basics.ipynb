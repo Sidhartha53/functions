{
  "nbformat": 4,
  "nbformat_minor": 0,
  "metadata": {
    "colab": {
      "provenance": [],
      "authorship_tag": "ABX9TyNXRZj9udH8nrucSBUsLTEr",
      "include_colab_link": true
    },
    "kernelspec": {
      "name": "python3",
      "display_name": "Python 3"
    },
    "language_info": {
      "name": "python"
    }
  },
  "cells": [
    {
      "cell_type": "markdown",
      "metadata": {
        "id": "view-in-github",
        "colab_type": "text"
      },
      "source": [
        "<a href=\"https://colab.research.google.com/github/Sidhartha53/functions/blob/main/Python_Basics.ipynb\" target=\"_parent\"><img src=\"https://colab.research.google.com/assets/colab-badge.svg\" alt=\"Open In Colab\"/></a>"
      ]
    },
    {
      "cell_type": "code",
      "source": [],
      "metadata": {
        "id": "R9v-ZUVe565s"
      },
      "execution_count": null,
      "outputs": []
    },
    {
      "cell_type": "markdown",
      "source": [],
      "metadata": {
        "id": "-RegwiATS9rp"
      }
    },
    {
      "cell_type": "markdown",
      "source": [
        "#Python Basics\n"
      ],
      "metadata": {
        "id": "ZN05v7Pkf3ZM"
      }
    },
    {
      "cell_type": "markdown",
      "source": [
        "1> **What is Python and Why it is Important ?**\n",
        "Ans- Python is a high-level,general purpose programming language.It is known for its clear syntax and readability, which makes it relativiely easy to learn and use.\n",
        "i. Versatility\n",
        "ii.Ease of Use\n",
        "iii. large and active community\n",
        "iv- Extensive Libraries and framework\n",
        "v. Free and open source\n",
        "2."
      ],
      "metadata": {
        "id": "a7f-ZyLYS__-"
      }
    },
    {
      "cell_type": "markdown",
      "source": [
        "2> **What is an Interpreter in Python ?**\n",
        "Ans- It's called an interpreter because it interprets and executes the code line by line, rather than compiling the entire code into machine code before execution.\n"
      ],
      "metadata": {
        "id": "6MmuIKnTUD_o"
      }
    },
    {
      "cell_type": "markdown",
      "source": [
        "3> **what are pre defined keywords in Python ?**\n",
        "Ans- Here's a list of the pre-defined keywords in Python  :\n",
        "\n",
        "False      await      else       import     pass\n",
        "None       break      except     in         raise\n",
        "True       class      finally    is         return\n",
        "and        continue   for        lambda     try\n",
        "as         def        from       nonlocal   while\n",
        "assert     del        global     not        with\n",
        "async      elif       if         or         yield\n",
        "\n"
      ],
      "metadata": {
        "id": "0-h3IEGkUeTw"
      }
    },
    {
      "cell_type": "markdown",
      "source": [
        "4>**Can keywords be used as variale names** ?\n",
        "Ans- Keywords are reserved words that have special meanings and purposes in the Python language. They are used to define the structure and syntax of the code. If you try to use a keyword as a variable name, Python will raise a SyntaxError because it will interpret the word as its predefined meaning, leading to confusion and errors."
      ],
      "metadata": {
        "id": "CWawbiCoVLPn"
      }
    },
    {
      "cell_type": "markdown",
      "source": [
        "5>**what is mutability in Python ?**\n",
        "Ans-Mutable objects can be modified after creation, meaning their value or content can be altered without changing their identity.\n",
        "-Lists,Dictionaries,Sets are Mutable."
      ],
      "metadata": {
        "id": "5GmNuU5DU3tR"
      }
    },
    {
      "cell_type": "markdown",
      "source": [
        "6>**why are lists mutable , but tuples are immutable ?**\n",
        "Ans-Lists are mutable to provide flexibility and dynamic management of collections of data.\n",
        "Tuples are immutable to ensure data integrity and prevent accidental modifications.\n"
      ],
      "metadata": {
        "id": "O6gztrumfzuh"
      }
    },
    {
      "cell_type": "markdown",
      "source": [
        "7> **what is the difference between \"==\" and \"is\" operators in Python ?**\n",
        "Ans-== operator (Equality)\n",
        "The == operator compares the values of two objects. It checks if the objects have the same content, regardless of their memory location.\n",
        "is operator (Identity)\n",
        "The is operator compares the identity of two objects. It checks if both variables refer to the same object in memory\n",
        "\" == \" compares values.\n",
        "\" is \" compares identities."
      ],
      "metadata": {
        "id": "NR-x7TOphKIy"
      }
    },
    {
      "cell_type": "markdown",
      "source": [
        "8> **what are logical operators in Python ?**\n",
        "Ans-1- and (Logical AND)\n",
        "       Returns True if both operands are True.\n",
        "       Returns False otherwise.\n",
        "    2- or (Logical OR)\n",
        "       Returns True if at least one operand is True.\n",
        "       Returns False only if both operands are False.\n",
        "    3- not (Logical NOT)\n",
        "      Inverts the truth value of the operand.\n",
        "      Returns True if the operand is False.\n",
        "      Returns False if the operand is True."
      ],
      "metadata": {
        "id": "NCT-OyljS_cX"
      }
    },
    {
      "cell_type": "markdown",
      "source": [
        "9> **what is type casting in Python ?**\n",
        "Ans- Type casting, also known as type conversion, is the process of changing the data type of a variable from one type to another. For example, you might want to convert an integer to a string, or a string to a float."
      ],
      "metadata": {
        "id": "_S49YcBak8xQ"
      }
    },
    {
      "cell_type": "markdown",
      "source": [
        "10> **what is the difference between implicit and explicit type casting ?**\n",
        "Ans-Implicit Type Casting\n",
        "\n",
        "Automatic Conversion: Implicit type casting is performed automatically by the Python interpreter without any intervention from the programmer.\n",
        "Data Type Promotion: It typically occurs when you perform operations on variables of different data types. The interpreter promotes one of the variables to a broader data type that can accommodate both values without data loss.\n",
        "Explicit Type Casting\n",
        "\n",
        "Manual Conversion: Explicit type casting is performed manually by the programmer using built-in functions like int(), float(), str(), etc.\n",
        "Programmer Control: You explicitly specify the desired data type for the conversion.\n"
      ],
      "metadata": {
        "id": "aqp24nr0l8JR"
      }
    },
    {
      "cell_type": "markdown",
      "source": [
        "11>**what is the purpose of conditional statement in Python ?**\n",
        "Ans-Conditional statements are fundamental programming constructs that allow you to control the flow of execution based on certain conditions. They enable your program to make decisions and execute different blocks of code depending on whether a condition is true or false.\n",
        "if statement: Executes a block of code if a condition is true.\n",
        "if-else statement: Executes one block of code if a condition is true, and another block if the condition is false.\n",
        "if-elif-else statement: Allows you to check multiple conditions and execute different blocks of code based on the first condition that evaluates to true."
      ],
      "metadata": {
        "id": "oWaJSjcmm3kJ"
      }
    },
    {
      "cell_type": "markdown",
      "source": [
        "12>**How does the elif statement work ?**\n",
        "Ans- The elif statement, short for \"else if,\" is used in conjunction with the if statement to provide additional conditional checks within a code block. It allows you to test multiple conditions sequentially and execute different blocks of code based on the first condition that evaluates to True."
      ],
      "metadata": {
        "id": "yU4WPYrmnbyA"
      }
    },
    {
      "cell_type": "markdown",
      "source": [
        "13>**What is the difference between for and while loop ?**\n",
        "Ans-while loop\n",
        "\n",
        "Conditional Iteration: The while loop repeatedly executes a block of code as long as a specified condition is true.\n",
        "Indefinite Iteration: while loops are often used when you don't know the exact number of iterations beforehand. The loop continues until the condition becomes false.\n",
        "for loop\n",
        "\n",
        "Iterating over a sequence: The for loop is primarily used to iterate over a sequence of items, such as a list, tuple, string, or range of numbers. It executes a block of code for each item in the sequence.\n",
        "Definite Iteration: for loops are typically used when you know the number of iterations in advance. The loop iterates over a predetermined set of items."
      ],
      "metadata": {
        "id": "OnZ0e5UFn481"
      }
    },
    {
      "cell_type": "markdown",
      "source": [
        "14>**Describe a scenario where a while loop is more suitable than a for loop ?**\n",
        "Ans- Why while loop is better:\n",
        "\n",
        "Indefinite Iteration: A while loop is ideal for this scenario because it allows you to iterate indefinitely until a specific condition is met (in this case, reaching the end of the file).\n",
        "\n",
        "Flexibility: The while loop can handle files of varying sizes without needing to know the number of lines in advance.\n",
        "\n",
        "Control over Termination: The loop continues as long as there are lines to read and terminates gracefully when it reaches the end of the file."
      ],
      "metadata": {
        "id": "lCm_eTZtoTrQ"
      }
    },
    {
      "cell_type": "code",
      "source": [
        "# 1. Python program to print \"Hello World !\"\n",
        "\n",
        "print(\"Hello World !\")\n"
      ],
      "metadata": {
        "colab": {
          "base_uri": "https://localhost:8080/"
        },
        "id": "jTF7mFsjf7xw",
        "outputId": "27896ab7-45e1-430d-bc75-9c32b21a42dc"
      },
      "execution_count": null,
      "outputs": [
        {
          "output_type": "stream",
          "name": "stdout",
          "text": [
            "Hello World !\n"
          ]
        }
      ]
    },
    {
      "cell_type": "code",
      "source": [
        "# 2. Program that displays your name and age.\n",
        "\n",
        "name = \"Sidhartha\"\n",
        "age = 28\n",
        "\n",
        "print(\"My name is\", name)\n",
        "print(\"I am\", age, \"years old\")\n"
      ],
      "metadata": {
        "colab": {
          "base_uri": "https://localhost:8080/"
        },
        "id": "JeePH7K8gBZg",
        "outputId": "c079d4a3-05c2-4002-b925-bee76f348e3e"
      },
      "execution_count": null,
      "outputs": [
        {
          "output_type": "stream",
          "name": "stdout",
          "text": [
            "My name is Sidhartha\n",
            "I am 28 years old\n"
          ]
        }
      ]
    },
    {
      "cell_type": "code",
      "source": [
        "# 3. Write code to print all the pre-defined keywords in Python using the keyword library.\n",
        "\n",
        "import keyword\n",
        "\n",
        "print(keyword.kwlist)\n"
      ],
      "metadata": {
        "colab": {
          "base_uri": "https://localhost:8080/"
        },
        "id": "2FAnr7vkgj2D",
        "outputId": "2b076c66-13ed-4f54-ea77-c5178b1b30f9"
      },
      "execution_count": 1,
      "outputs": [
        {
          "output_type": "stream",
          "name": "stdout",
          "text": [
            "['False', 'None', 'True', 'and', 'as', 'assert', 'async', 'await', 'break', 'class', 'continue', 'def', 'del', 'elif', 'else', 'except', 'finally', 'for', 'from', 'global', 'if', 'import', 'in', 'is', 'lambda', 'nonlocal', 'not', 'or', 'pass', 'raise', 'return', 'try', 'while', 'with', 'yield']\n"
          ]
        }
      ]
    },
    {
      "cell_type": "code",
      "source": [
        "# 4. Program that checks if a given word is a Python keyword\n",
        "\n",
        "import keyword\n",
        "word = input(\"Enter a word to check if it is a Python keyword: \") # For asking the user to put a word\n",
        "if keyword.iskeyword(word):  # To Check if the word is in the list of keywords\n",
        "    print(f\"'{word}' is a Python keyword.\")\n",
        "else:\n",
        "    print(f\"'{word}' is not a Python keyword.\")\n"
      ],
      "metadata": {
        "colab": {
          "base_uri": "https://localhost:8080/"
        },
        "id": "359Bh_9NjY5X",
        "outputId": "a73b9f91-81d3-4e1c-db99-8d0d3697523f"
      },
      "execution_count": null,
      "outputs": [
        {
          "output_type": "stream",
          "name": "stdout",
          "text": [
            "Enter a word to check if it is a Python keyword: else\n",
            "'else' is a Python keyword.\n"
          ]
        }
      ]
    },
    {
      "cell_type": "code",
      "source": [],
      "metadata": {
        "id": "B97mJ7TNlU7j"
      },
      "execution_count": null,
      "outputs": []
    },
    {
      "cell_type": "code",
      "source": [
        "# 5. Create a list and tuple in Python, and demonstrate how attempting to change an element works differently for each\n",
        "\n",
        "# To Create a List\n",
        "my_list = [10, 20, 30, 40]\n",
        "print(\"The List:\", my_list)\n",
        "\n",
        "# Change the 1st element to 50 (index 1)\n",
        "my_list[1] = 50\n",
        "print(\"Modified List:\", my_list)\n",
        "\n",
        "# To Create a Tuple\n",
        "my_tuple = (10, 20, 30, 40)\n",
        "print(\"\\nOriginal Tuple:\", my_tuple)\n",
        "\n",
        "# To change the 1st element in the Tuple (This will raise an error)\n",
        "try:\n",
        "    my_tuple[1] = 50  # This will raise a TypeError because tuples are immutable\n",
        "except TypeError as e:\n",
        "    print(\"Error while modifying Tuple:\", e)"
      ],
      "metadata": {
        "id": "dK6JE3KOk2zo",
        "colab": {
          "base_uri": "https://localhost:8080/"
        },
        "outputId": "f1f35d2b-da64-40a2-fa12-b20c272f5236"
      },
      "execution_count": null,
      "outputs": [
        {
          "output_type": "stream",
          "name": "stdout",
          "text": [
            "The List: [10, 20, 30, 40]\n",
            "Modified List: [10, 50, 30, 40]\n",
            "\n",
            "Original Tuple: (10, 20, 30, 40)\n",
            "Error while modifying Tuple: 'tuple' object does not support item assignment\n"
          ]
        }
      ]
    },
    {
      "cell_type": "code",
      "source": [
        "# 6. Write a function to demonstrate the behavior of mutable and immutable orguments.\n",
        "\n",
        "def modify_objects(mutable_obj, immutable_obj):\n",
        "    # To Modify the mutable object\n",
        "    print(\"\\nBefore modifying mutable object:\", mutable_obj)\n",
        "    mutable_obj.append(1000)  # Modifying the list (mutable object)\n",
        "    print(\"After modifying mutable object:\", mutable_obj)\n",
        "\n",
        "    # To modify the immutable object\n",
        "    print(\"\\nBefore modifying immutable object:\", immutable_obj)\n",
        "    try:\n",
        "        immutable_obj[1] = 80  # Trying to modify the tuple (immutable object)\n",
        "    except TypeError as e:\n",
        "        print(\"Error while modifying immutable object:\", e)\n",
        "\n",
        "\n",
        "# Demonstrating mutable and immutable behavior\n",
        "my_list = [200, 300, 400]  # Mutable object (List)\n",
        "my_tuple = (100, 200, 300)  # Immutable object (Tuple)\n",
        "\n",
        "print(\"Calling function with mutable and immutable objects:\")\n",
        "modify_objects(my_list, my_tuple)\n",
        "\n",
        "# Showing the final states of the objects after the function call\n",
        "print(\"\\nFinal state of my_list (mutable):\", my_list)\n",
        "print(\"Final state of my_tuple (immutable):\", my_tuple)\n"
      ],
      "metadata": {
        "colab": {
          "base_uri": "https://localhost:8080/"
        },
        "id": "GcCBbWSrnb9D",
        "outputId": "7c55fb67-521a-4447-d288-9e1170ddc098"
      },
      "execution_count": null,
      "outputs": [
        {
          "output_type": "stream",
          "name": "stdout",
          "text": [
            "Calling function with mutable and immutable objects:\n",
            "\n",
            "Before modifying mutable object: [200, 300, 400]\n",
            "After modifying mutable object: [200, 300, 400, 1000]\n",
            "\n",
            "Before modifying immutable object: (100, 200, 300)\n",
            "Error while modifying immutable object: 'tuple' object does not support item assignment\n",
            "\n",
            "Final state of my_list (mutable): [200, 300, 400, 1000]\n",
            "Final state of my_tuple (immutable): (100, 200, 300)\n"
          ]
        }
      ]
    },
    {
      "cell_type": "code",
      "source": [
        "# 7. Basic Arithmetic Operations\n",
        "\n",
        "num1 = float(input(\"Enter the first number: \"))\n",
        "num2 = float(input(\"Enter the second number: \"))\n",
        "addition = num1 + num2\n",
        "subtraction = num1 - num2\n",
        "multiplication = num1 * num2\n",
        "\n",
        "if num2 != 0:\n",
        "    division = num1 / num2\n",
        "\n",
        "else:\n",
        "    division = \"Undefined (division by zero)\"\n",
        "\n",
        "print(\"\\nResults:\")\n",
        "print(f\"Addition: {num1} + {num2} = {addition}\")\n",
        "print(f\"Subtraction: {num1} - {num2} = {subtraction}\")\n",
        "print(f\"Multiplication: {num1} * {num2} = {multiplication}\")\n",
        "print(f\"Division: {num1} / {num2} = {division}\")"
      ],
      "metadata": {
        "colab": {
          "base_uri": "https://localhost:8080/"
        },
        "id": "9GopcVRuo1bJ",
        "outputId": "2eec63ea-d7d0-477d-894e-d893332feba4"
      },
      "execution_count": null,
      "outputs": [
        {
          "output_type": "stream",
          "name": "stdout",
          "text": [
            "Enter the first number: 8000\n",
            "Enter the second number: 80\n",
            "\n",
            "Results:\n",
            "Addition: 8000.0 + 80.0 = 8080.0\n",
            "Subtraction: 8000.0 - 80.0 = 7920.0\n",
            "Multiplication: 8000.0 * 80.0 = 640000.0\n",
            "Division: 8000.0 / 80.0 = 100.0\n"
          ]
        }
      ]
    },
    {
      "cell_type": "code",
      "source": [
        "# 8.Program to demonstrate the use of logical operators.\n",
        "\n",
        "# Defining some boolean variables\n",
        "a = True\n",
        "b = False\n",
        "x = 50\n",
        "y = 100\n",
        "\n",
        "# Using 'and' logical operator\n",
        "print(\"Using 'and' operator:\")\n",
        "print(f\"True and True: {a and a}\")   # Both True\n",
        "print(f\"True and False: {a and b}\")  # One is False\n",
        "print(f\"False and True: {b and a}\")  # One is False\n",
        "print(f\"False and False: {b and b}\") # Both False\n",
        "\n",
        "# Using 'or' logical operator\n",
        "print(\"\\nUsing 'or' operator:\")\n",
        "print(f\"True or True: {a or a}\")   # Both True\n",
        "print(f\"True or False: {a or b}\")  # One is True\n",
        "print(f\"False or True: {b or a}\")  # One is True\n",
        "print(f\"False or False: {b or b}\") # Both False\n",
        "\n",
        "# Using 'not' logical operator\n",
        "print(\"\\nUsing 'not' operator:\")\n",
        "print(f\"Not True: {not a}\")  # Inverts True to False\n",
        "print(f\"Not False: {not b}\") # Inverts False to True\n",
        "\n",
        "# Combining logical operators with comparison\n",
        "print(\"\\nCombining logical operators with comparison:\")\n",
        "print(f\"x is greater than y and a is True: {x > y and a}\")  # x > y is False, so result is False\n",
        "print(f\"x is less than y or a is True: {x < y or a}\")  # x < y is True, so result is True\n",
        "print(f\"Not (x is equal to y): {not (x == y)}\")  # x is not equal to y, so result is True\n"
      ],
      "metadata": {
        "colab": {
          "base_uri": "https://localhost:8080/"
        },
        "id": "s28D075vpLMJ",
        "outputId": "90384f25-4faf-4bf0-f42e-10c0114a9c68"
      },
      "execution_count": null,
      "outputs": [
        {
          "output_type": "stream",
          "name": "stdout",
          "text": [
            "Using 'and' operator:\n",
            "True and True: True\n",
            "True and False: False\n",
            "False and True: False\n",
            "False and False: False\n",
            "\n",
            "Using 'or' operator:\n",
            "True or True: True\n",
            "True or False: True\n",
            "False or True: True\n",
            "False or False: False\n",
            "\n",
            "Using 'not' operator:\n",
            "Not True: False\n",
            "Not False: True\n",
            "\n",
            "Combining logical operators with comparison:\n",
            "x is greater than y and a is True: False\n",
            "x is less than y or a is True: True\n",
            "Not (x is equal to y): True\n"
          ]
        }
      ]
    },
    {
      "cell_type": "code",
      "source": [
        "# 9.Program to convert user input from string to integer, float, and boolean types.\n",
        "\n",
        "# Take user input as a string\n",
        "user_input = input(\"Enter a Value: \")\n",
        "\n",
        "# Convert the input to an integer\n",
        "try:\n",
        "    integer_value = int(user_input)\n",
        "    print(f\"Converted to Integer: {integer_value}\")\n",
        "except ValueError:\n",
        "    print(\"Unable to convert to Integer.\")\n",
        "\n",
        "# Convert the input to a float\n",
        "try:\n",
        "    float_value = float(user_input)\n",
        "    print(f\"Converted to Float: {float_value}\")\n",
        "except ValueError:\n",
        "    print(\"Unable to convert to Float.\")\n",
        "\n",
        "# Convert the input to a boolean\n",
        "# Any non-empty string is considered True, empty string is False\n",
        "boolean_value = bool(user_input)\n",
        "print(f\"Converted to Boolean: {boolean_value}\")\n"
      ],
      "metadata": {
        "colab": {
          "base_uri": "https://localhost:8080/"
        },
        "id": "sA8EXintqg0_",
        "outputId": "2620adf7-3042-43ac-d84f-1422c6c55603"
      },
      "execution_count": null,
      "outputs": [
        {
          "output_type": "stream",
          "name": "stdout",
          "text": [
            "Enter a Value: 85\n",
            "Converted to Integer: 85\n",
            "Converted to Float: 85.0\n",
            "Converted to Boolean: True\n"
          ]
        }
      ]
    },
    {
      "cell_type": "code",
      "source": [
        "# 10. Code to demonstrate type casting with list elements.\n",
        "# Original list of strings\n",
        "string_list = [\"11\", \"21\", \"31\", \"41\", \"51\"]\n",
        "print(\"Original List (String elements):\", string_list)\n",
        "\n",
        "# Convert list elements from string to integer\n",
        "int_list = [int(item) for item in string_list]\n",
        "print(\"\\nConverted List (Integer elements):\", int_list)\n",
        "\n",
        "# Convert list elements from string to float\n",
        "float_list = [float(item) for item in string_list]\n",
        "print(\"\\nConverted List (Float elements):\", float_list)\n",
        "\n",
        "# Convert list elements from string to boolean\n",
        "# Empty string will be False, non-empty strings will be True\n",
        "bool_list = [bool(item) for item in string_list]\n",
        "print(\"\\nConverted List (Boolean elements):\", bool_list)\n",
        "\n",
        "# Convert list elements from integer to string\n",
        "string_list_from_int = [str(item) for item in int_list]\n",
        "print(\"\\nConverted List from Integer to String:\", string_list_from_int)\n",
        "\n",
        "# Convert list elements from float to integer\n",
        "int_list_from_float = [int(item) for item in float_list]\n",
        "print(\"\\nConverted List from Float to Integer:\", int_list_from_float)\n"
      ],
      "metadata": {
        "colab": {
          "base_uri": "https://localhost:8080/"
        },
        "id": "7pMmjqLcrdo7",
        "outputId": "714b73ef-fb26-4e2c-f403-48e8026ff838"
      },
      "execution_count": null,
      "outputs": [
        {
          "output_type": "stream",
          "name": "stdout",
          "text": [
            "Original List (String elements): ['11', '21', '31', '41', '51']\n",
            "\n",
            "Converted List (Integer elements): [11, 21, 31, 41, 51]\n",
            "\n",
            "Converted List (Float elements): [11.0, 21.0, 31.0, 41.0, 51.0]\n",
            "\n",
            "Converted List (Boolean elements): [True, True, True, True, True]\n",
            "\n",
            "Converted List from Integer to String: ['11', '21', '31', '41', '51']\n",
            "\n",
            "Converted List from Float to Integer: [11, 21, 31, 41, 51]\n"
          ]
        }
      ]
    },
    {
      "cell_type": "code",
      "source": [
        "# 11. Program that checks if a number is positive, negative, or zero.\n",
        "\n",
        "number = float(input(\"Enter a number: \"))\n",
        "\n",
        "if number > 0:\n",
        "    print(\"The number is positive.\")\n",
        "elif number < 0:\n",
        "    print(\"The number is negative.\")\n",
        "else:\n",
        "    print(\"The number is zero.\")\n"
      ],
      "metadata": {
        "colab": {
          "base_uri": "https://localhost:8080/"
        },
        "id": "xkoB1H2GsNgB",
        "outputId": "76dcdca7-0430-4349-908d-1ce36496c5f4"
      },
      "execution_count": null,
      "outputs": [
        {
          "output_type": "stream",
          "name": "stdout",
          "text": [
            "Enter a number: 7\n",
            "The number is positive.\n"
          ]
        }
      ]
    },
    {
      "cell_type": "code",
      "source": [
        "# 12.  for loop to print numbers from 1 to 10.\n",
        "\n",
        "\n",
        "for i in range(1, 11):\n",
        "    print(i)\n",
        "\n"
      ],
      "metadata": {
        "colab": {
          "base_uri": "https://localhost:8080/"
        },
        "id": "bRUwBgx5sqDa",
        "outputId": "b011ad56-d6c7-48cc-90ab-31601f7b42a7"
      },
      "execution_count": null,
      "outputs": [
        {
          "output_type": "stream",
          "name": "stdout",
          "text": [
            "1\n",
            "2\n",
            "3\n",
            "4\n",
            "5\n",
            "6\n",
            "7\n",
            "8\n",
            "9\n",
            "10\n"
          ]
        }
      ]
    },
    {
      "cell_type": "code",
      "source": [
        "# 13. Program to find the sum of all even numbers between 1 and 50\n",
        "\n",
        "\n",
        "# Initializing a variable to store the sum\n",
        "even_sum = 0\n",
        "# Loop through numbers from 1 to 50\n",
        "for num in range(1, 51):\n",
        "    if num % 2 == 0:  #  To check if the number is even\n",
        "        even_sum += num  #  To add it to the sum\n",
        "print(\"The sum of all even numbers between 1 and 50 is:\", even_sum)\n",
        "\n"
      ],
      "metadata": {
        "colab": {
          "base_uri": "https://localhost:8080/"
        },
        "id": "Bln52aqJtVlS",
        "outputId": "31d674bb-a33b-4edb-9baa-7a7ac3492fb3"
      },
      "execution_count": null,
      "outputs": [
        {
          "output_type": "stream",
          "name": "stdout",
          "text": [
            "The sum of all even numbers between 1 and 50 is: 650\n"
          ]
        }
      ]
    },
    {
      "cell_type": "code",
      "source": [
        "# 14. Program to reverse a string using a while loop\n",
        "\n",
        "\n",
        "original_str = input(\"Enter a string: \")\n",
        "# Initializing  an empty string to store the reversed version\n",
        "reversed_str = \"\"\n",
        "# Get the index of the last character\n",
        "index = len(original_str) - 1\n",
        "# Loop through the string in reverse using a while loop\n",
        "while index >= 0:\n",
        "    reversed_str += original_str[index]\n",
        "    index -= 1  # Move to the previous character\n",
        "print(\"Reversed string:\", reversed_str)\n",
        "\n",
        "\n"
      ],
      "metadata": {
        "colab": {
          "base_uri": "https://localhost:8080/"
        },
        "id": "RTjo94FAt5Lx",
        "outputId": "0368e5dd-fbf6-4c24-9355-7cb5a933872e"
      },
      "execution_count": null,
      "outputs": [
        {
          "output_type": "stream",
          "name": "stdout",
          "text": [
            "Enter a string: SIDHARTHA SHANKAR\n",
            "Reversed string: RAKNAHS AHTRAHDIS\n"
          ]
        }
      ]
    },
    {
      "cell_type": "code",
      "source": [
        "# 15. Program to calculate the factorial of a number provided  by the user using a while loop.\n",
        "\n",
        "\n",
        "num = int(input(\"Enter a non-negative integer: \"))\n",
        "factorial = 1\n",
        "i = 1\n",
        "if num < 0:\n",
        "    print(\"Factorial is not defined for negative numbers.\")\n",
        "else:\n",
        "    while i <= num:\n",
        "        factorial *= i\n",
        "        i += 1\n",
        "    print(f\"The factorial of {num} is: {factorial}\")\n"
      ],
      "metadata": {
        "colab": {
          "base_uri": "https://localhost:8080/"
        },
        "id": "s-x_eFAXvEBq",
        "outputId": "8e83379f-5210-4994-9afb-465b277ca13b"
      },
      "execution_count": null,
      "outputs": [
        {
          "output_type": "stream",
          "name": "stdout",
          "text": [
            "Enter a non-negative integer: 5\n",
            "The factorial of 5 is: 120\n"
          ]
        }
      ]
    }
  ]
}