{
  "nbformat": 4,
  "nbformat_minor": 0,
  "metadata": {
    "colab": {
      "provenance": []
    },
    "kernelspec": {
      "name": "python3",
      "display_name": "Python 3"
    },
    "language_info": {
      "name": "python"
    }
  },
  "cells": [
    {
      "cell_type": "code",
      "execution_count": null,
      "metadata": {
        "id": "mMjM8kaEOcc-"
      },
      "outputs": [],
      "source": []
    },
    {
      "cell_type": "markdown",
      "source": [
        "1. what is the difference between a function and a method in python ?\n",
        "ans-A function is a block of code that performs a specific task.A method is a function that is associated with an object"
      ],
      "metadata": {
        "id": "pPxfr8PbO8OD"
      }
    },
    {
      "cell_type": "code",
      "source": [],
      "metadata": {
        "id": "9UNbSdPvQTSY"
      },
      "execution_count": null,
      "outputs": []
    },
    {
      "cell_type": "markdown",
      "source": [],
      "metadata": {
        "id": "GgNb8GxfQP_m"
      }
    },
    {
      "cell_type": "markdown",
      "source": [],
      "metadata": {
        "id": "gp3_tmFQQP8a"
      }
    }
  ]
}